{
 "cells": [
  {
   "cell_type": "markdown",
   "metadata": {},
   "source": [
    "3 Results of MNIST with Drop connected voted and the results are printed below"
   ]
  },
  {
   "cell_type": "code",
   "execution_count": 13,
   "metadata": {
    "collapsed": false
   },
   "outputs": [],
   "source": [
    "#Get the actual values\n",
    "import numpy\n",
    "\n",
    "import theano\n",
    "import theano.tensor as T\n",
    "from theano.tensor.signal import downsample\n",
    "import scipy\n",
    "import scipy.misc\n",
    "from scipy import misc\n",
    "from scipy import ndimage\n",
    "from hw3_utils import shared_dataset, load_data\n",
    "from hw3_nn import LogisticRegression, HiddenLayer, myMLP, LeNetConvPoolLayer, train_nn, DropConnect,DropOut\n",
    "import cPickle, gzip, numpy\n",
    "import matplotlib.pyplot as plt\n",
    "\n",
    "\n",
    "f = gzip.open('/home/ubuntu/extern/dropconnect/data/mnist.pkl.gz', 'rb')\n",
    "train_set, valid_set, test_set = cPickle.load(f)\n",
    "f.close()\n",
    "Mnist_test_set_x, Mnist_test_set_y = (test_set)"
   ]
  },
  {
   "cell_type": "code",
   "execution_count": 14,
   "metadata": {
    "collapsed": false
   },
   "outputs": [],
   "source": [
    "f = open('/home/ubuntu/extern/dropconnect/src/Results/MNIST/DropConnect/MNIST_dropconnect1', 'rb')\n",
    "MNIST_dropconnect1 = cPickle.load(f)\n",
    "f.close()\n",
    "\n",
    "f = open('/home/ubuntu/extern/dropconnect/src/Results/MNIST/DropConnect/MNIST_Dropconnect2', 'rb')\n",
    "MNIST_Dropconnect2 = cPickle.load(f)\n",
    "f.close()\n",
    "\n",
    "f = open('/home/ubuntu/extern/dropconnect/src/Results/MNIST/DropConnect/MNIST_DROPCONNECT3', 'rb')\n",
    "MNIST_DROPCONNECT3 = cPickle.load(f)\n",
    "f.close()\n"
   ]
  },
  {
   "cell_type": "code",
   "execution_count": 15,
   "metadata": {
    "collapsed": true
   },
   "outputs": [],
   "source": [
    "Mnist1_predictedList=[]\n",
    "for i in range(len(MNIST_dropconnect1)):\n",
    "    npArr = MNIST_dropconnect1[i]\n",
    "    for j in range(npArr.shape[0]):\n",
    "        Mnist1_predictedList.append(npArr[j])\n",
    "\n",
    "Mnist2_predictedList=[]\n",
    "for i in range(len(MNIST_Dropconnect2)):\n",
    "    npArr = MNIST_Dropconnect2[i]\n",
    "    for j in range(npArr.shape[0]):\n",
    "        Mnist2_predictedList.append(npArr[j])\n",
    "\n",
    "\n",
    "Mnist3_predictedList=[]\n",
    "for i in range(len(MNIST_DROPCONNECT3)):\n",
    "    npArr = MNIST_DROPCONNECT3[i]\n",
    "    for j in range(npArr.shape[0]):\n",
    "        Mnist3_predictedList.append(npArr[j])\n"
   ]
  },
  {
   "cell_type": "code",
   "execution_count": 16,
   "metadata": {
    "collapsed": false
   },
   "outputs": [],
   "source": [
    "import cPickle, gzip, numpy\n",
    "from scipy.stats import mode"
   ]
  },
  {
   "cell_type": "code",
   "execution_count": 19,
   "metadata": {
    "collapsed": false
   },
   "outputs": [
    {
     "name": "stdout",
     "output_type": "stream",
     "text": [
      "The average test error for the MNIST dataset with drop connect is =  1.19 %\n"
     ]
    }
   ],
   "source": [
    "leng = len(Mnist3_predictedList)\n",
    "maxPredictions = []\n",
    "for i in range(leng):\n",
    "    modeCheck = [Mnist1_predictedList[i],Mnist2_predictedList[i],Mnist3_predictedList[i]]\n",
    "    maxFrequencyPredicted = mode(modeCheck)\n",
    "    maxPredictions.append(maxFrequencyPredicted.mode[0])\n",
    "    \n",
    "errors = 0\n",
    "for i in range(leng):\n",
    "    if(maxPredictions[i] != Mnist_test_set_y[i]):\n",
    "        errors = errors + 1\n",
    "\n",
    "testError = ((errors * 1.0 )/leng) * 100\n",
    "print (\"The average test error for the MNIST dataset with drop connect is =  \" + str(testError) + \" %\")"
   ]
  },
  {
   "cell_type": "markdown",
   "metadata": {},
   "source": [
    "3 Results of MNIST with Drop out voted and the error percentage reported"
   ]
  },
  {
   "cell_type": "code",
   "execution_count": 20,
   "metadata": {
    "collapsed": true
   },
   "outputs": [],
   "source": [
    "f = open('/home/ubuntu/extern/dropconnect/src/Results/MNIST/Dropout/MNIST_dropout1', 'rb')\n",
    "MNIST_dropconnect1 = cPickle.load(f)\n",
    "f.close()\n",
    "\n",
    "f = open('/home/ubuntu/extern/dropconnect/src/Results/MNIST/Dropout/MNIST_dropout2', 'rb')\n",
    "MNIST_Dropconnect2 = cPickle.load(f)\n",
    "f.close()\n",
    "\n",
    "f = open('/home/ubuntu/extern/dropconnect/src/Results/MNIST/Dropout/MNIST_dropout3', 'rb')\n",
    "MNIST_DROPCONNECT3 = cPickle.load(f)\n",
    "f.close()\n"
   ]
  },
  {
   "cell_type": "code",
   "execution_count": 21,
   "metadata": {
    "collapsed": true
   },
   "outputs": [],
   "source": [
    "Mnist1_predictedList=[]\n",
    "for i in range(len(MNIST_dropconnect1)):\n",
    "    npArr = MNIST_dropconnect1[i]\n",
    "    for j in range(npArr.shape[0]):\n",
    "        Mnist1_predictedList.append(npArr[j])\n",
    "\n",
    "Mnist2_predictedList=[]\n",
    "for i in range(len(MNIST_Dropconnect2)):\n",
    "    npArr = MNIST_Dropconnect2[i]\n",
    "    for j in range(npArr.shape[0]):\n",
    "        Mnist2_predictedList.append(npArr[j])\n",
    "\n",
    "\n",
    "Mnist3_predictedList=[]\n",
    "for i in range(len(MNIST_DROPCONNECT3)):\n",
    "    npArr = MNIST_DROPCONNECT3[i]\n",
    "    for j in range(npArr.shape[0]):\n",
    "        Mnist3_predictedList.append(npArr[j])\n"
   ]
  },
  {
   "cell_type": "code",
   "execution_count": 22,
   "metadata": {
    "collapsed": false
   },
   "outputs": [
    {
     "name": "stdout",
     "output_type": "stream",
     "text": [
      "The average voting error for the MNIST dataset with drop out is =  0.89 %\n"
     ]
    }
   ],
   "source": [
    "leng = len(Mnist3_predictedList)\n",
    "maxPredictions = []\n",
    "for i in range(leng):\n",
    "    modeCheck = [Mnist1_predictedList[i],Mnist2_predictedList[i],Mnist3_predictedList[i]]\n",
    "    maxFrequencyPredicted = mode(modeCheck)\n",
    "    maxPredictions.append(maxFrequencyPredicted.mode[0])\n",
    "    \n",
    "errors = 0\n",
    "for i in range(leng):\n",
    "    if(maxPredictions[i] != Mnist_test_set_y[i]):\n",
    "        errors = errors + 1\n",
    "\n",
    "testError = ((errors * 1.0 )/leng) * 100\n",
    "print (\"The average voting error for the MNIST dataset with drop out is =  \" + str(testError) + \" %\")"
   ]
  },
  {
   "cell_type": "markdown",
   "metadata": {},
   "source": [
    "The voting error for MNIST dataset with no drop reported here"
   ]
  },
  {
   "cell_type": "code",
   "execution_count": 23,
   "metadata": {
    "collapsed": true
   },
   "outputs": [],
   "source": [
    "f = open('/home/ubuntu/extern/dropconnect/src/Results/MNIST/NoDrop/MNIST_predictions_NoDrop_1', 'rb')\n",
    "MNIST_dropconnect1 = cPickle.load(f)\n",
    "f.close()\n",
    "\n",
    "f = open('/home/ubuntu/extern/dropconnect/src/Results/MNIST/NoDrop/MNIST_predictions_NoDrop_2', 'rb')\n",
    "MNIST_Dropconnect2 = cPickle.load(f)\n",
    "f.close()\n",
    "\n",
    "f = open('/home/ubuntu/extern/dropconnect/src/Results/MNIST/NoDrop/MNIST_predictions_NoDrop_3', 'rb')\n",
    "MNIST_DROPCONNECT3 = cPickle.load(f)\n",
    "f.close()"
   ]
  },
  {
   "cell_type": "code",
   "execution_count": 24,
   "metadata": {
    "collapsed": true
   },
   "outputs": [],
   "source": [
    "Mnist1_predictedList=[]\n",
    "for i in range(len(MNIST_dropconnect1)):\n",
    "    npArr = MNIST_dropconnect1[i]\n",
    "    for j in range(npArr.shape[0]):\n",
    "        Mnist1_predictedList.append(npArr[j])\n",
    "\n",
    "Mnist2_predictedList=[]\n",
    "for i in range(len(MNIST_Dropconnect2)):\n",
    "    npArr = MNIST_Dropconnect2[i]\n",
    "    for j in range(npArr.shape[0]):\n",
    "        Mnist2_predictedList.append(npArr[j])\n",
    "\n",
    "\n",
    "Mnist3_predictedList=[]\n",
    "for i in range(len(MNIST_DROPCONNECT3)):\n",
    "    npArr = MNIST_DROPCONNECT3[i]\n",
    "    for j in range(npArr.shape[0]):\n",
    "        Mnist3_predictedList.append(npArr[j])\n"
   ]
  },
  {
   "cell_type": "code",
   "execution_count": 25,
   "metadata": {
    "collapsed": false
   },
   "outputs": [
    {
     "name": "stdout",
     "output_type": "stream",
     "text": [
      "The average voting error for the MNIST dataset with no drop is =  0.91 %\n"
     ]
    }
   ],
   "source": [
    "leng = len(Mnist3_predictedList)\n",
    "maxPredictions = []\n",
    "for i in range(leng):\n",
    "    modeCheck = [Mnist1_predictedList[i],Mnist2_predictedList[i],Mnist3_predictedList[i]]\n",
    "    maxFrequencyPredicted = mode(modeCheck)\n",
    "    maxPredictions.append(maxFrequencyPredicted.mode[0])\n",
    "    \n",
    "errors = 0\n",
    "for i in range(leng):\n",
    "    if(maxPredictions[i] != Mnist_test_set_y[i]):\n",
    "        errors = errors + 1\n",
    "\n",
    "testError = ((errors * 1.0 )/leng) * 100\n",
    "print (\"The average voting error for the MNIST dataset with no drop is =  \" + str(testError) + \" %\")"
   ]
  },
  {
   "cell_type": "code",
   "execution_count": 26,
   "metadata": {
    "collapsed": true
   },
   "outputs": [],
   "source": [
    "f = open('/home/ubuntu/extern/dropconnect/src/Results/SVHN/SVHN_Actual_Y_TestValues', 'rb')\n",
    "actual_Y_SVHN = cPickle.load(f)\n",
    "f.close() "
   ]
  },
  {
   "cell_type": "markdown",
   "metadata": {},
   "source": [
    "Drop connect for SVHN"
   ]
  },
  {
   "cell_type": "code",
   "execution_count": 27,
   "metadata": {
    "collapsed": true
   },
   "outputs": [],
   "source": [
    "f = open('/home/ubuntu/extern/dropconnect/src/Results/SVHN/DropConnect/svhndropconnect1', 'rb')\n",
    "MNIST_dropconnect1 = cPickle.load(f)\n",
    "f.close()\n",
    "\n",
    "f = open('/home/ubuntu/extern/dropconnect/src/Results/SVHN/DropConnect/svhndropconnect2', 'rb')\n",
    "MNIST_Dropconnect2 = cPickle.load(f)\n",
    "f.close()\n",
    "\n",
    "f = open('/home/ubuntu/extern/dropconnect/src/Results/SVHN/DropConnect/svhndropconnect3', 'rb')\n",
    "MNIST_DROPCONNECT3 = cPickle.load(f)\n",
    "f.close()\n"
   ]
  },
  {
   "cell_type": "code",
   "execution_count": 28,
   "metadata": {
    "collapsed": true
   },
   "outputs": [],
   "source": [
    "Mnist1_predictedList=[]\n",
    "for i in range(len(MNIST_dropconnect1)):\n",
    "    npArr = MNIST_dropconnect1[i]\n",
    "    for j in range(npArr.shape[0]):\n",
    "        Mnist1_predictedList.append(npArr[j])\n",
    "\n",
    "Mnist2_predictedList=[]\n",
    "for i in range(len(MNIST_Dropconnect2)):\n",
    "    npArr = MNIST_Dropconnect2[i]\n",
    "    for j in range(npArr.shape[0]):\n",
    "        Mnist2_predictedList.append(npArr[j])\n",
    "\n",
    "\n",
    "Mnist3_predictedList=[]\n",
    "for i in range(len(MNIST_DROPCONNECT3)):\n",
    "    npArr = MNIST_DROPCONNECT3[i]\n",
    "    for j in range(npArr.shape[0]):\n",
    "        Mnist3_predictedList.append(npArr[j])\n"
   ]
  },
  {
   "cell_type": "code",
   "execution_count": 31,
   "metadata": {
    "collapsed": false
   },
   "outputs": [
    {
     "name": "stdout",
     "output_type": "stream",
     "text": [
      "The average test error for the SVHN dataset with drop connect is =  29.0392006149 %\n"
     ]
    }
   ],
   "source": [
    "leng = len(Mnist1_predictedList)\n",
    "maxPredictions = []\n",
    "for i in range(leng):\n",
    "    modeCheck = [Mnist1_predictedList[i],Mnist2_predictedList[i],Mnist3_predictedList[i]]\n",
    "    maxFrequencyPredicted = mode(modeCheck)\n",
    "    maxPredictions.append(maxFrequencyPredicted.mode[0])\n",
    "    \n",
    "errors = 0\n",
    "for i in range(leng):\n",
    "    if(maxPredictions[i] != actual_Y_SVHN[i]):\n",
    "        errors = errors + 1\n",
    "\n",
    "testError = ((errors * 1.0 )/leng) * 100\n",
    "print (\"The average test error for the SVHN dataset with drop connect is =  \" + str(testError) + \" %\")"
   ]
  },
  {
   "cell_type": "code",
   "execution_count": 32,
   "metadata": {
    "collapsed": true
   },
   "outputs": [],
   "source": [
    "f = open('/home/ubuntu/extern/dropconnect/src/Results/SVHN/Dropout/svhndropout1', 'rb')\n",
    "MNIST_dropconnect1 = cPickle.load(f)\n",
    "f.close()\n",
    "\n",
    "f = open('/home/ubuntu/extern/dropconnect/src/Results/SVHN/Dropout/svhndropout2', 'rb')\n",
    "MNIST_Dropconnect2 = cPickle.load(f)\n",
    "f.close()\n",
    "\n",
    "f = open('/home/ubuntu/extern/dropconnect/src/Results/SVHN/Dropout/svhndropout3', 'rb')\n",
    "MNIST_DROPCONNECT3 = cPickle.load(f)\n",
    "f.close()\n"
   ]
  },
  {
   "cell_type": "code",
   "execution_count": 33,
   "metadata": {
    "collapsed": true
   },
   "outputs": [],
   "source": [
    "Mnist1_predictedList=[]\n",
    "for i in range(len(MNIST_dropconnect1)):\n",
    "    npArr = MNIST_dropconnect1[i]\n",
    "    for j in range(npArr.shape[0]):\n",
    "        Mnist1_predictedList.append(npArr[j])\n",
    "\n",
    "Mnist2_predictedList=[]\n",
    "for i in range(len(MNIST_Dropconnect2)):\n",
    "    npArr = MNIST_Dropconnect2[i]\n",
    "    for j in range(npArr.shape[0]):\n",
    "        Mnist2_predictedList.append(npArr[j])\n",
    "\n",
    "\n",
    "Mnist3_predictedList=[]\n",
    "for i in range(len(MNIST_DROPCONNECT3)):\n",
    "    npArr = MNIST_DROPCONNECT3[i]\n",
    "    for j in range(npArr.shape[0]):\n",
    "        Mnist3_predictedList.append(npArr[j])\n"
   ]
  },
  {
   "cell_type": "code",
   "execution_count": 34,
   "metadata": {
    "collapsed": false
   },
   "outputs": [
    {
     "name": "stdout",
     "output_type": "stream",
     "text": [
      "The average test error for the SVHN dataset with drop out is =  30.7455803228 %\n"
     ]
    }
   ],
   "source": [
    "leng = len(Mnist1_predictedList)\n",
    "maxPredictions = []\n",
    "for i in range(leng):\n",
    "    modeCheck = [Mnist1_predictedList[i],Mnist2_predictedList[i],Mnist3_predictedList[i]]\n",
    "    maxFrequencyPredicted = mode(modeCheck)\n",
    "    maxPredictions.append(maxFrequencyPredicted.mode[0])\n",
    "    \n",
    "errors = 0\n",
    "for i in range(leng):\n",
    "    if(maxPredictions[i] != actual_Y_SVHN[i]):\n",
    "        errors = errors + 1\n",
    "\n",
    "testError = ((errors * 1.0 )/leng) * 100\n",
    "print (\"The average test error for the SVHN dataset with drop out is =  \" + str(testError) + \" %\")"
   ]
  },
  {
   "cell_type": "code",
   "execution_count": null,
   "metadata": {
    "collapsed": true
   },
   "outputs": [],
   "source": []
  }
 ],
 "metadata": {
  "kernelspec": {
   "display_name": "Python 2",
   "language": "python",
   "name": "python2"
  },
  "language_info": {
   "codemirror_mode": {
    "name": "ipython",
    "version": 2
   },
   "file_extension": ".py",
   "mimetype": "text/x-python",
   "name": "python",
   "nbconvert_exporter": "python",
   "pygments_lexer": "ipython2",
   "version": "2.7.11"
  }
 },
 "nbformat": 4,
 "nbformat_minor": 0
}
